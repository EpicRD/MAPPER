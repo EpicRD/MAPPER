{
 "cells": [
  {
   "cell_type": "markdown",
   "metadata": {},
   "source": [
    "Mapper is a specialized all-terrain mapping program and this guide is created for new or unfamiliar people who need help in understanding on how to use MAPPER.\n",
    "Hope it will be useful to new users and people who are unsure on how to use it."
   ]
  },
  {
   "cell_type": "markdown",
   "metadata": {},
   "source": [
    "1. import osmnx to help retrieve data from openstreetmap."
   ]
  },
  {
   "cell_type": "code",
   "execution_count": null,
   "metadata": {},
   "outputs": [],
   "source": [
    "import osmnx as ox"
   ]
  },
  {
   "cell_type": "markdown",
   "metadata": {},
   "source": [
    "2. Enter location to retrieve map data from openstreetmap"
   ]
  },
  {
   "cell_type": "code",
   "execution_count": null,
   "metadata": {},
   "outputs": [],
   "source": [
    "print(\"Enter your City to map out: \")\n",
    "City = input()\n",
    "print(\"Enter your Country to map out: \")\n",
    "Country = input()"
   ]
  },
  {
   "cell_type": "markdown",
   "metadata": {},
   "source": [
    "3. Getting map data from the internet using osmnx."
   ]
  },
  {
   "cell_type": "code",
   "execution_count": null,
   "metadata": {},
   "outputs": [],
   "source": [
    "place = [City, Country]\n",
    "G = ox.graph_from_place(place, retain_all=True,\n",
    "                        simplify=True, network_type='all')"
   ]
  },
  {
   "cell_type": "markdown",
   "metadata": {},
   "source": [
    "4. Unpacking the data and replacing roads with coloured lines based on it's length.\n",
    "   (NOTE: USERS CAN COUSTOMISE THE COLORING SCHEME BY EDITING THE '#' NUMERALS)"
   ]
  },
  {
   "cell_type": "code",
   "execution_count": null,
   "metadata": {},
   "outputs": [],
   "source": [
    "u = []\n",
    "v = []\n",
    "key = []\n",
    "data = []\n",
    "for uu, vv, kkey, ddata in G.edges(keys=True, data=True):\n",
    "    u.append(uu)\n",
    "    v.append(vv)\n",
    "    key.append(kkey)\n",
    "    data.append(ddata)\n",
    "\n",
    "# Lists to store colors and widths\n",
    "roadColors = []\n",
    "roadWidths = []\n",
    "\n",
    "for item in data:\n",
    "    if \"length\" in item.keys():\n",
    "        if item[\"length\"] <= 100:\n",
    "            linewidth = 0.10\n",
    "            color = \"#d40a47\"\n",
    "\n",
    "        elif item[\"length\"] > 100 and item[\"length\"] <= 200:\n",
    "            linewidth = 0.15\n",
    "            color = \"#e78119\"\n",
    "\n",
    "        elif item[\"length\"] > 200 and item[\"length\"] <= 400:\n",
    "            linewidth = 0.25\n",
    "            color = \"#30bab0\"\n",
    "\n",
    "        elif item[\"length\"] > 400 and item[\"length\"] <= 800:\n",
    "            color = \"#bbbbbb\"\n",
    "            linewidth = 0.35\n",
    "        else:\n",
    "            color = \"#d5d5d5\"\n",
    "            linewidth = 0.45\n",
    "\n",
    "        if \"primary\" in item[\"highway\"]:\n",
    "            linewidth = 0.5\n",
    "            color = \"#ffff\"\n",
    "    else:\n",
    "        color = \"#a6a6a6\"\n",
    "        linewidth = 0.10\n",
    "\n",
    "    roadColors.append(color)\n",
    "    roadWidths.append(linewidth)\n",
    "\n",
    "for item in data:\n",
    "    if \"footway\" in item[\"highway\"]:\n",
    "        color = \"#ededed\"\n",
    "        linewidth = 0.5\n",
    "    else:\n",
    "        color = \"#a6a6a6\"\n",
    "        linewidth = 0.5\n",
    "\n",
    "    roadWidths.append(linewidth)\n",
    "\n",
    "bgcolor = \"#061529\""
   ]
  },
  {
   "cell_type": "markdown",
   "metadata": {},
   "source": [
    "5. Load and save the image."
   ]
  },
  {
   "cell_type": "code",
   "execution_count": null,
   "metadata": {},
   "outputs": [],
   "source": [
    "fig, ax = ox.plot_graph(G, node_size=0, figsize=(27, 30),\n",
    "                        dpi=300, bgcolor=bgcolor,\n",
    "                        save=False, edge_color=roadColors,\n",
    "                        edge_linewidth=roadWidths, edge_alpha=1)\n",
    "\n",
    "fig.tight_layout(pad=0)\n",
    "fig.savefig(\"Figure1.png\", dpi=300, format=\"png\", bbox_inches='tight',\n",
    "            facecolor=fig.get_facecolor(), transparent=False)"
   ]
  }
 ],
 "metadata": {
  "interpreter": {
   "hash": "9ddfba760c93d0781cb88c4db9a31eb68ca4e1616821530f19d735f356a5c9ec"
  },
  "kernelspec": {
   "display_name": "Python 3.8.6 64-bit",
   "name": "python3"
  },
  "language_info": {
   "name": "python",
   "version": "3.8.6"
  },
  "orig_nbformat": 4
 },
 "nbformat": 4,
 "nbformat_minor": 2
}
